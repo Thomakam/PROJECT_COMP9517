{
 "cells": [
  {
   "cell_type": "code",
   "execution_count": 32,
   "id": "d7dae79d",
   "metadata": {},
   "outputs": [],
   "source": [
    "# !pip3 install scikit-image"
   ]
  },
  {
   "cell_type": "code",
   "execution_count": 2,
   "id": "d4fb5a30",
   "metadata": {},
   "outputs": [
    {
     "name": "stderr",
     "output_type": "stream",
     "text": [
      "/Users/bytedance/Library/Python/3.9/lib/python/site-packages/urllib3/__init__.py:35: NotOpenSSLWarning: urllib3 v2 only supports OpenSSL 1.1.1+, currently the 'ssl' module is compiled with 'LibreSSL 2.8.3'. See: https://github.com/urllib3/urllib3/issues/3020\n",
      "  warnings.warn(\n",
      "/Users/bytedance/Library/Python/3.9/lib/python/site-packages/tqdm/auto.py:21: TqdmWarning: IProgress not found. Please update jupyter and ipywidgets. See https://ipywidgets.readthedocs.io/en/stable/user_install.html\n",
      "  from .autonotebook import tqdm as notebook_tqdm\n"
     ]
    },
    {
     "data": {
      "text/plain": [
       "'/Users/bytedance/.cache/kagglehub/datasets/ankit1743/skyview-an-aerial-landscape-dataset/versions/1/Aerial_Landscapes'"
      ]
     },
     "execution_count": 2,
     "metadata": {},
     "output_type": "execute_result"
    }
   ],
   "source": [
    "import kagglehub\n",
    "path = kagglehub.dataset_download(\"ankit1743/skyview-an-aerial-landscape-dataset\") + \"/Aerial_Landscapes\"\n",
    "path"
   ]
  },
  {
   "cell_type": "markdown",
   "id": "96de9757",
   "metadata": {},
   "source": [
    "# machine learning"
   ]
  },
  {
   "cell_type": "markdown",
   "id": "2c70429d",
   "metadata": {},
   "source": [
    "## color"
   ]
  },
  {
   "cell_type": "code",
   "execution_count": 10,
   "id": "74992f13",
   "metadata": {},
   "outputs": [],
   "source": [
    "import os\n",
    "import cv2\n",
    "import numpy as np\n",
    "from sklearn.model_selection import train_test_split\n",
    "from sklearn.metrics import classification_report\n",
    "\n",
    "def extract_color_histogram(image, bins=(16, 16, 16)):\n",
    "    hsv = cv2.cvtColor(image, cv2.COLOR_BGR2HSV)\n",
    "    hist = cv2.calcHist([hsv], [0, 1, 2], None, bins,\n",
    "                        [0, 180, 0, 256, 0, 256])\n",
    "    cv2.normalize(hist, hist)\n",
    "    return hist.flatten()\n",
    "\n",
    "dataset_path = path  \n",
    "\n",
    "color_features = []\n",
    "labels = []\n",
    "\n",
    "for label in os.listdir(dataset_path):\n",
    "    folder = os.path.join(dataset_path, label)\n",
    "    if not os.path.isdir(folder):\n",
    "        continue  \n",
    "    \n",
    "    for img_file in os.listdir(folder):\n",
    "        img_path = os.path.join(folder, img_file)\n",
    "        try:\n",
    "            image = cv2.imread(img_path)\n",
    "            if image is None:\n",
    "                continue\n",
    "            image = cv2.resize(image, (100, 100))  \n",
    "            hist = extract_color_histogram(image)\n",
    "            color_features.append(hist)\n",
    "            labels.append(label)\n",
    "        except Exception as e:\n",
    "            print(f\"error here {img_path}: {e}\")\n",
    "\n",
    "x_train, x_test, y_train, y_test = train_test_split(\n",
    "    color_features, labels, test_size=0.2, random_state=42)\n"
   ]
  },
  {
   "cell_type": "markdown",
   "id": "fb834d12",
   "metadata": {},
   "source": [
    "knn model"
   ]
  },
  {
   "cell_type": "code",
   "execution_count": 11,
   "id": "ab82a83a",
   "metadata": {},
   "outputs": [
    {
     "name": "stdout",
     "output_type": "stream",
     "text": [
      "knn accuracy: 0.5933333333333334\n",
      "              precision    recall  f1-score   support\n",
      "\n",
      " Agriculture       0.44      0.48      0.46       168\n",
      "     Airport       0.38      0.37      0.38       157\n",
      "       Beach       0.62      0.40      0.49       156\n",
      "        City       0.63      0.74      0.68       170\n",
      "      Desert       0.74      0.94      0.83       170\n",
      "      Forest       0.64      0.91      0.75       161\n",
      "   Grassland       0.64      0.85      0.73       152\n",
      "     Highway       0.58      0.24      0.34       173\n",
      "        Lake       0.60      0.28      0.38       165\n",
      "    Mountain       0.52      0.66      0.59       155\n",
      "     Parking       0.65      0.71      0.67       157\n",
      "        Port       0.61      0.56      0.59       149\n",
      "     Railway       0.55      0.64      0.59       163\n",
      " Residential       0.67      0.80      0.73       148\n",
      "       River       0.56      0.34      0.42       156\n",
      "\n",
      "    accuracy                           0.59      2400\n",
      "   macro avg       0.59      0.60      0.57      2400\n",
      "weighted avg       0.59      0.59      0.57      2400\n",
      "\n"
     ]
    }
   ],
   "source": [
    "from sklearn.neighbors import KNeighborsClassifier\n",
    "\n",
    "knn_model = KNeighborsClassifier(n_neighbors=5) \n",
    "knn_model.fit(x_train, y_train)\n",
    "\n",
    "print(\"knn accuracy:\", knn_model.score(x_test, y_test))\n",
    "print(classification_report(y_test, knn_model.predict(x_test)))"
   ]
  },
  {
   "cell_type": "markdown",
   "id": "3be49f28",
   "metadata": {},
   "source": [
    "svm"
   ]
  },
  {
   "cell_type": "code",
   "execution_count": 12,
   "id": "bd1e9edc",
   "metadata": {},
   "outputs": [
    {
     "name": "stdout",
     "output_type": "stream",
     "text": [
      "svm accuracy: 0.685\n",
      "              precision    recall  f1-score   support\n",
      "\n",
      " Agriculture       0.58      0.54      0.56       168\n",
      "     Airport       0.47      0.54      0.50       157\n",
      "       Beach       0.66      0.71      0.69       156\n",
      "        City       0.80      0.75      0.78       170\n",
      "      Desert       0.85      0.95      0.90       170\n",
      "      Forest       0.83      0.88      0.85       161\n",
      "   Grassland       0.72      0.89      0.80       152\n",
      "     Highway       0.66      0.44      0.53       173\n",
      "        Lake       0.66      0.48      0.56       165\n",
      "    Mountain       0.67      0.62      0.64       155\n",
      "     Parking       0.72      0.75      0.73       157\n",
      "        Port       0.63      0.74      0.68       149\n",
      "     Railway       0.62      0.72      0.67       163\n",
      " Residential       0.83      0.79      0.81       148\n",
      "       River       0.57      0.50      0.53       156\n",
      "\n",
      "    accuracy                           0.69      2400\n",
      "   macro avg       0.68      0.69      0.68      2400\n",
      "weighted avg       0.68      0.69      0.68      2400\n",
      "\n"
     ]
    }
   ],
   "source": [
    "from sklearn.svm import SVC\n",
    "\n",
    "svm_model = SVC(kernel='rbf', random_state=42) \n",
    "svm_model.fit(x_train, y_train)\n",
    "\n",
    "print(\"svm accuracy:\", svm_model.score(x_test, y_test))\n",
    "print(classification_report(y_test, svm_model.predict(x_test)))"
   ]
  },
  {
   "cell_type": "markdown",
   "id": "991a8588",
   "metadata": {},
   "source": [
    "forest"
   ]
  },
  {
   "cell_type": "code",
   "execution_count": 14,
   "id": "53683ad2",
   "metadata": {},
   "outputs": [
    {
     "name": "stdout",
     "output_type": "stream",
     "text": [
      "forest accuracy: 0.7191666666666666\n",
      "              precision    recall  f1-score   support\n",
      "\n",
      " Agriculture       0.66      0.69      0.67       168\n",
      "     Airport       0.54      0.59      0.56       157\n",
      "       Beach       0.72      0.80      0.76       156\n",
      "        City       0.71      0.74      0.72       170\n",
      "      Desert       0.92      0.96      0.94       170\n",
      "      Forest       0.81      0.90      0.85       161\n",
      "   Grassland       0.87      0.93      0.90       152\n",
      "     Highway       0.68      0.45      0.54       173\n",
      "        Lake       0.64      0.52      0.57       165\n",
      "    Mountain       0.66      0.65      0.65       155\n",
      "     Parking       0.83      0.80      0.82       157\n",
      "        Port       0.81      0.77      0.79       149\n",
      "     Railway       0.61      0.65      0.63       163\n",
      " Residential       0.74      0.86      0.80       148\n",
      "       River       0.56      0.52      0.54       156\n",
      "\n",
      "    accuracy                           0.72      2400\n",
      "   macro avg       0.72      0.72      0.72      2400\n",
      "weighted avg       0.72      0.72      0.71      2400\n",
      "\n"
     ]
    }
   ],
   "source": [
    "from sklearn.ensemble import RandomForestClassifier\n",
    "\n",
    "forest_model = RandomForestClassifier(n_estimators=100, random_state=42)\n",
    "forest_model.fit(x_train, y_train)\n",
    "\n",
    "print(\"forest accuracy:\", forest_model.score(x_test, y_test))\n",
    "print(classification_report(y_test, forest_model.predict(x_test)))"
   ]
  },
  {
   "cell_type": "markdown",
   "id": "6be33238",
   "metadata": {},
   "source": [
    "## texture"
   ]
  },
  {
   "cell_type": "markdown",
   "id": "e22e522e",
   "metadata": {},
   "source": [
    "### lbp"
   ]
  },
  {
   "cell_type": "code",
   "execution_count": 15,
   "id": "9120b1b4",
   "metadata": {},
   "outputs": [
    {
     "name": "stdout",
     "output_type": "stream",
     "text": [
      "LBP - KNN Accuracy: 0.3229166666666667\n",
      "LBP - SVM Accuracy: 0.20208333333333334\n",
      "LBP - RF Accuracy: 0.40125\n"
     ]
    }
   ],
   "source": [
    "from skimage import feature\n",
    "\n",
    "def extract_lbp_features(image, num_points=24, radius=8, eps=1e-7):\n",
    "    gray = cv2.cvtColor(image, cv2.COLOR_BGR2GRAY)\n",
    "    lbp = feature.local_binary_pattern(gray, num_points, radius, method=\"uniform\")\n",
    "    (hist, _) = np.histogram(lbp.ravel(),\n",
    "                             bins=np.arange(0, num_points + 3),\n",
    "                             range=(0, num_points + 2))\n",
    "    hist = hist.astype(\"float\")\n",
    "    hist /= (hist.sum() + eps) \n",
    "    return hist\n",
    "\n",
    "texture_features = []\n",
    "labels = []\n",
    "\n",
    "for label in os.listdir(dataset_path):\n",
    "    folder = os.path.join(dataset_path, label)\n",
    "    if not os.path.isdir(folder):\n",
    "        continue  \n",
    "\n",
    "    for img_file in os.listdir(folder):\n",
    "        img_path = os.path.join(folder, img_file)\n",
    "        try:\n",
    "            image = cv2.imread(img_path)\n",
    "            if image is None:\n",
    "                continue\n",
    "            image = cv2.resize(image, (100, 100))\n",
    "            lbp_hist = extract_lbp_features(image)\n",
    "            texture_features.append(lbp_hist)\n",
    "            labels.append(label)\n",
    "        except Exception as e:\n",
    "            print(f\"Error processing {img_path}: {e}\")\n",
    "\n",
    "x_train, x_test, y_train, y_test = train_test_split(\n",
    "    texture_features, labels, test_size=0.2, random_state=42)\n",
    "\n",
    "knn_model.fit(x_train, y_train)\n",
    "print(\"LBP - KNN Accuracy:\", knn_model.score(x_test, y_test))\n",
    "\n",
    "svm_model.fit(x_train, y_train)\n",
    "print(\"LBP - SVM Accuracy:\", svm_model.score(x_test, y_test))\n",
    "\n",
    "forest_model.fit(x_train, y_train)\n",
    "print(\"LBP - RF Accuracy:\", forest_model.score(x_test, y_test))\n"
   ]
  },
  {
   "cell_type": "code",
   "execution_count": null,
   "id": "08335116",
   "metadata": {},
   "outputs": [],
   "source": []
  }
 ],
 "metadata": {
  "kernelspec": {
   "display_name": "Python 3",
   "language": "python",
   "name": "python3"
  },
  "language_info": {
   "codemirror_mode": {
    "name": "ipython",
    "version": 3
   },
   "file_extension": ".py",
   "mimetype": "text/x-python",
   "name": "python",
   "nbconvert_exporter": "python",
   "pygments_lexer": "ipython3",
   "version": "3.9.6"
  }
 },
 "nbformat": 4,
 "nbformat_minor": 5
}
